import pandas as pd

# read the cities csv file
cities_df = pd.read_csv('Resource/cities.csv')

# save to file
cities_df.to_html('data_a.html', index=False)

# assign to string
table_a = cities_df.to_html()
print(table_a)

# repeat for dataset two
city_score_df = pd.read_csv('Resource/uaScoresDataFrame.csv')

# save to another file
city_score_df.to_html('data_b.html', index=False)

# assign to second string
table_b = city_score_df.to_html()
print(table_b)


